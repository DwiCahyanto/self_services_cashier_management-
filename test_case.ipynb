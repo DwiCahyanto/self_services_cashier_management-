{
 "cells": [
  {
   "cell_type": "markdown",
   "metadata": {},
   "source": [
    "# **Test case**\n",
    "----"
   ]
  },
  {
   "cell_type": "code",
   "execution_count": 7,
   "metadata": {},
   "outputs": [],
   "source": [
    "# import script to new ipnyb file\n",
    "import main "
   ]
  },
  {
   "cell_type": "code",
   "execution_count": 8,
   "metadata": {},
   "outputs": [],
   "source": [
    "# inisisasi variabel sebagai class\n",
    "test_case = main.Kashir()"
   ]
  },
  {
   "cell_type": "markdown",
   "metadata": {},
   "source": [
    "### test 1\n",
    "---"
   ]
  },
  {
   "cell_type": "code",
   "execution_count": 9,
   "metadata": {},
   "outputs": [
    {
     "name": "stdout",
     "output_type": "stream",
     "text": [
      "selamat anda berhasil menambahkan item belanja !!!\n"
     ]
    }
   ],
   "source": [
    "test_case.add_item(\"Ayam goreng\", 2, 20_000)"
   ]
  },
  {
   "cell_type": "code",
   "execution_count": 10,
   "metadata": {},
   "outputs": [
    {
     "name": "stdout",
     "output_type": "stream",
     "text": [
      "selamat anda berhasil menambahkan item belanja !!!\n"
     ]
    }
   ],
   "source": [
    "test_case.add_item(\"Pasta gigi\", 3, 15_000)"
   ]
  },
  {
   "cell_type": "markdown",
   "metadata": {},
   "source": [
    "### test 2\n",
    "---"
   ]
  },
  {
   "cell_type": "code",
   "execution_count": 11,
   "metadata": {},
   "outputs": [
    {
     "name": "stdout",
     "output_type": "stream",
     "text": [
      "Pasta gigi berhasil dihapus dalam daftar belanja anda !!!\n"
     ]
    }
   ],
   "source": [
    "test_case.delete_item(\"Pasta gigi\")"
   ]
  },
  {
   "cell_type": "code",
   "execution_count": 13,
   "metadata": {},
   "outputs": [
    {
     "name": "stdout",
     "output_type": "stream",
     "text": [
      "|             |   Jumlah Item |   Harga Item |   Total harga |\n",
      "|:------------|--------------:|-------------:|--------------:|\n",
      "| Ayam goreng |             2 |        20000 |         40000 |\n",
      "---------------------------\n",
      "Pemesanan sudah benar\n"
     ]
    }
   ],
   "source": [
    "test_case.check_order()"
   ]
  },
  {
   "cell_type": "markdown",
   "metadata": {},
   "source": [
    "### test 3\n",
    "---"
   ]
  },
  {
   "cell_type": "code",
   "execution_count": 14,
   "metadata": {},
   "outputs": [
    {
     "name": "stdout",
     "output_type": "stream",
     "text": [
      "anda berhasil menghapus daftar belanja !!!\n"
     ]
    }
   ],
   "source": [
    "test_case.reset_transaction()"
   ]
  },
  {
   "cell_type": "markdown",
   "metadata": {},
   "source": [
    "### test 4\n",
    "---"
   ]
  },
  {
   "cell_type": "code",
   "execution_count": 15,
   "metadata": {},
   "outputs": [
    {
     "name": "stdout",
     "output_type": "stream",
     "text": [
      "selamat anda berhasil menambahkan item belanja !!!\n",
      "selamat anda berhasil menambahkan item belanja !!!\n",
      "selamat anda berhasil menambahkan item belanja !!!\n",
      "selamat anda berhasil menambahkan item belanja !!!\n"
     ]
    }
   ],
   "source": [
    "test_case.add_item(\"Ayam goreng\", 2, 20_000)\n",
    "test_case.add_item(\"Pasta gigi\", 3, 15_000)\n",
    "test_case.add_item(\"Mainan mobil\", 1, 200_000)\n",
    "test_case.add_item(\"Mi instan\", 5, 3_000)"
   ]
  },
  {
   "cell_type": "code",
   "execution_count": 16,
   "metadata": {},
   "outputs": [
    {
     "name": "stdout",
     "output_type": "stream",
     "text": [
      "|              |   Jumlah Item |   Harga Item |   Total harga |\n",
      "|:-------------|--------------:|-------------:|--------------:|\n",
      "| Ayam goreng  |             2 |        20000 |         40000 |\n",
      "| Pasta gigi   |             3 |        15000 |         45000 |\n",
      "| Mainan mobil |             1 |       200000 |        200000 |\n",
      "| Mi instan    |             5 |         3000 |         15000 |\n",
      "---------------------------\n",
      "Pemesanan sudah benar\n",
      "selamat anda mendapatkan diskon 5%, sehingga Total belanja anda menjadi Rp.285000.0\n"
     ]
    }
   ],
   "source": [
    "test_case.check_order()\n",
    "test_case.total_price()"
   ]
  }
 ],
 "metadata": {
  "kernelspec": {
   "display_name": "Python 3.9.12 ('base')",
   "language": "python",
   "name": "python3"
  },
  "language_info": {
   "codemirror_mode": {
    "name": "ipython",
    "version": 3
   },
   "file_extension": ".py",
   "mimetype": "text/x-python",
   "name": "python",
   "nbconvert_exporter": "python",
   "pygments_lexer": "ipython3",
   "version": "3.9.12"
  },
  "orig_nbformat": 4,
  "vscode": {
   "interpreter": {
    "hash": "e136cc0e967b313c0cf5dec040d1f464de091cc2972c8f03ef25a39ba0a5adfe"
   }
  }
 },
 "nbformat": 4,
 "nbformat_minor": 2
}
